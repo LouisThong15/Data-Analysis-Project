{
 "cells": [
  {
   "cell_type": "markdown",
   "id": "02d322bd",
   "metadata": {},
   "source": [
    "# Analysing Video Games from 1980 to 2017 - Data Analyst Portfolio Project\n",
    "\n",
    "This project explores video games that were produced from 1980 to 2017. The dataset is provided by a user from Kaggle(https://www.kaggle.com/datasets/rush4ratio/video-game-sales-with-ratings). We'll use Python to analyze the dataset and use the pandas and SciPy libraries to answer the following questions:\n",
    "\n",
    "1. What genre of game is most popular?\n",
    "2. Which publishing company is the most popular/successful?\n",
    "3. What are the highest global sales for each year?\n",
    "4. For each publisher, in which region do they have the most sales? \n",
    "5. What platform was the dominant in each year?"
   ]
  },
  {
   "cell_type": "code",
   "execution_count": null,
   "id": "5db94026",
   "metadata": {},
   "outputs": [],
   "source": [
    "from matplotlib import pyplot as plt\n",
    "import numpy as np\n",
    "import pandas as pd\n",
    "\n",
    "vd_data = pd.read_csv('Video_Games_Sales_as_at_22_Dec_2016.csv')"
   ]
  },
  {
   "cell_type": "code",
   "execution_count": null,
   "id": "9fe16801",
   "metadata": {},
   "outputs": [],
   "source": [
    "vd_data.head()\n",
    "# vd_data.info()"
   ]
  },
  {
   "cell_type": "markdown",
   "id": "3bf0dd6b",
   "metadata": {},
   "source": [
    "The dataset contains 16,720 rows and 16 columns containing information about the species. It looks like all columns except  'Name', 'Platform', 'Year of Release', 'Genre', 'Publisher', 'NA Sales', 'EU Sales', 'JP Sales', 'Other Sales', and 'Global Sales' columns have some missing values.\n",
    "\n",
    "Here's a quick summary of the columns:\n",
    "\n",
    "- **Name**: Name of the game\n",
    "- **Platform**: Console on which the game is running\n",
    "- **Year of Release**: Year of the game released\n",
    "- **Genre**: Game's category\n",
    "- **Publisher**: Company that published the game\n",
    "- **NA Sales**: Game sales in North America (in millions of units)\n",
    "- **EU Sales**: Game sales in European Union (in millions of units)\n",
    "- **JP Sales**: Game sales in Japan (in millions of units)\n",
    "- **Other Sales**: Game sales in the rest of the world, i.e. Africa, Asia excluding Japan, Australia, Europe excluding the E.U. and South America (in millions of units)\n",
    "- **Critic Score**: Aggregate score compiled by Metacritic staff\n",
    "- **Critic Count**: The number of critics used in coming up with the Critic_score\n",
    "- **User Score**: Score by Metacritic's subscribers\n",
    "- **User Count**: Number of users who gave the user_score\n",
    "- **Developer**: Party responsible for creating the game\n",
    "- **Rating**: The ESRB ratings (E.g. Everyone, Teen, Adults Only..etc)"
   ]
  },
  {
   "cell_type": "code",
   "execution_count": null,
   "id": "a5994dfb",
   "metadata": {},
   "outputs": [],
   "source": [
    "vd_data.describe()"
   ]
  },
  {
   "cell_type": "markdown",
   "id": "b46826e4",
   "metadata": {},
   "source": [
    "## Data Question #1: What genre of game is most popular?"
   ]
  },
  {
   "cell_type": "code",
   "execution_count": null,
   "id": "6a8ec3f0",
   "metadata": {},
   "outputs": [],
   "source": [
    "# Genre count\n",
    "popular_genre = vd_data.Genre.value_counts().rename_axis('Genre').reset_index(name='Count')\n",
    "popular_genre"
   ]
  },
  {
   "cell_type": "code",
   "execution_count": null,
   "id": "f7d69c4a",
   "metadata": {},
   "outputs": [],
   "source": [
    "genre_total_count = 0\n",
    "genre_percent = []\n",
    "\n",
    "for i in range(0,len(popular_genre['Count'])):\n",
    "    genre_total_count += popular_genre['Count'][i]\n",
    "    \n",
    "for i in range(0, len(popular_genre['Count'])):\n",
    "    genre_percent.append(popular_genre['Genre'][i] + ': '+ str(round(popular_genre['Count'][i]/genre_total_count *100,1)) + '%')\n",
    "\n",
    "plt.pie(x = popular_genre['Count'], labels = genre_percent)\n",
    "plt.title('Game Produced by Genre from 1980 to 2017')\n",
    "# plt.legend(title = 'Genres', loc=\"center right\", bbox_to_anchor=(1.5, 0, 0.5, 1))\n",
    "plt.show()"
   ]
  },
  {
   "cell_type": "markdown",
   "id": "a675069d",
   "metadata": {},
   "source": [
    "It seems that the 'Action' genre is the most popular genre accounting for 20.2% of games, followed by 'Sports' and 'Misc' genres with 14% and 10.5% respectively. "
   ]
  },
  {
   "cell_type": "code",
   "execution_count": null,
   "id": "330ed191",
   "metadata": {},
   "outputs": [],
   "source": [
    "genre_sales = 0\n",
    "genre_sales_list = []\n",
    "genre_list = []\n",
    "\n",
    "# for i in range(0, len(popular_genre['Genre'])):\n",
    "#     genre_list.append(popular_genre['Genre'][i])\n",
    "\n",
    "for genre in popular_genre['Genre']:\n",
    "    for i in range(0, len(vd_data.Genre)):\n",
    "        if vd_data.Genre[i] == genre:\n",
    "            genre_sales += vd_data.Global_Sales[i]\n",
    "    genre_sales_list.append(round(genre_sales, 2))\n",
    "    genre_sales = 0\n",
    "\n",
    "plt.bar(x = popular_genre['Genre'], height = genre_sales_list, color = 'tomato')\n",
    "plt.xticks(rotation = 'vertical')\n",
    "plt.title('Total Global Sales Sold for Each Genre from 1980 to 2017')\n",
    "plt.ylabel('Number of Global Slaes in Millions of Units')\n",
    "plt.show()"
   ]
  },
  {
   "cell_type": "markdown",
   "id": "74d200f4",
   "metadata": {},
   "source": [
    "According to the figure above, the 'Action' genre also has the highest number of global sales followed by the 'Sports' genre which is to be expected. However, the 'Shooter' genre has the third highest number of global sales which is suprising, considering that the genre only accounts for 7.9% of games produced. "
   ]
  },
  {
   "cell_type": "code",
   "execution_count": null,
   "id": "4f4ff9dc",
   "metadata": {},
   "outputs": [],
   "source": [
    "# Publisher Count\n",
    "popular_publisher = vd_data.Publisher.value_counts().rename_axis('Publisher').reset_index(name='Count')\n",
    "popular_publisher"
   ]
  },
  {
   "cell_type": "markdown",
   "id": "c52554f3",
   "metadata": {},
   "source": [
    "They are 580 publishing companies but we will only be focusing on the top 10 companies. There are several companies that have only published 1 game which would be irrelevant. "
   ]
  },
  {
   "cell_type": "markdown",
   "id": "a4d9c1db",
   "metadata": {},
   "source": [
    "## Data Question #2: Which publishing company is the most popular/successful?"
   ]
  },
  {
   "cell_type": "code",
   "execution_count": null,
   "id": "585d7bcc",
   "metadata": {},
   "outputs": [],
   "source": [
    "publisher_count = []\n",
    "publisher_label = []\n",
    "publisher_percent = []\n",
    "\n",
    "for i in range(0,10):\n",
    "    publisher_count.append(popular_publisher['Count'][i])\n",
    "    publisher_label.append(popular_publisher['Publisher'][i])\n",
    "\n",
    "print(total_count)\n",
    "plt.pie(x = publisher_count, labels = publisher_label, startangle= 50,  autopct='%1.1f%%')\n",
    "plt.title('Top 10 Publishing Companies by No. of Games Published')\n",
    "# plt.legend(title=\"Companies\",loc=\"right\",bbox_to_anchor=(2, 0, 0.5, 1))\n",
    "plt.show()"
   ]
  },
  {
   "cell_type": "markdown",
   "id": "1bd7657a",
   "metadata": {},
   "source": [
    "Electronic Arts (EA) has the highest number of games produced with a number of 1356 of a total of 8215 games (8.1% of all games). Activision has the second highest number of games published accounting for 5.9% followed by Namco Bandai Games and Ubisoft with 55.6%. "
   ]
  },
  {
   "cell_type": "code",
   "execution_count": null,
   "id": "b32b2b1b",
   "metadata": {},
   "outputs": [],
   "source": [
    "# Finding top games from each publishing company \n",
    "top_game_count = 0\n",
    "top_game_list = []\n",
    "top_game = ''\n",
    "\n",
    "for publisher in publisher_label:\n",
    "    for i in range(0, len(vd_data.Name)):\n",
    "        if vd_data.Publisher[i] == publisher and vd_data.Global_Sales[i] > top_game_count:\n",
    "            top_game_count = vd_data.Global_Sales[i]\n",
    "            top_game = vd_data.Name[i]\n",
    "    top_game_list.append(top_game)\n",
    "    top_game_count = 0\n",
    "    top_game = ''\n",
    "\n",
    "print(top_game_list)"
   ]
  },
  {
   "cell_type": "code",
   "execution_count": null,
   "id": "e0448d99",
   "metadata": {},
   "outputs": [],
   "source": [
    "publisher_sales = []\n",
    "sales_count = 0\n",
    "\n",
    "for publisher in publisher_label:\n",
    "    for n in range(0, len(vd_data.Global_Sales)):\n",
    "        if vd_data.Publisher[n] == publisher:\n",
    "            sales_count += vd_data.Global_Sales[n]\n",
    "    publisher_sales.append(round(sales_count, 2))\n",
    "    sales_count = 0\n",
    "\n",
    "print(publisher_label, publisher_sales)\n",
    "    \n",
    "plt.bar(x = publisher_label, height = publisher_sales, align = 'center', width = 0.9, color ='royalblue')\n",
    "plt.title('Total Global Sales of the Top 10 Publishing Companies from 1980 to 2017')\n",
    "plt.ylabel('Total Global Sales in Units per Million')\n",
    "plt.xticks(rotation = 'vertical')\n",
    "plt.show()"
   ]
  },
  {
   "cell_type": "markdown",
   "id": "077dcd48",
   "metadata": {},
   "source": [
    "Nintendo has the highest global sales of approximately 1750 million units followed by Electronic Arts. Even though, Electronic Arts has published the most games, they only have a total global sale of approximately 1100 million which is significantly less compared to Nintendo. Activision has the next highest total global sales with approximately 750 million. "
   ]
  },
  {
   "cell_type": "code",
   "execution_count": null,
   "id": "2ce54eef",
   "metadata": {},
   "outputs": [],
   "source": [
    "avg_sale = []\n",
    "avg_sale_count = 0\n",
    "\n",
    "for i in range(0, 10):\n",
    "    avg_sale.append(publisher_sales[i]/publisher_count[i])\n",
    "    \n",
    "plt.bar(x = publisher_label, height = avg_sale, color = 'coral', width = 0.8)\n",
    "plt.title('Average Global Sales for the Top 10 Publishing Companies')\n",
    "plt.ylabel('Average Global Sales in Units per Million')\n",
    "plt.xticks(rotation = 'vertical')\n",
    "plt.show()"
   ]
  },
  {
   "cell_type": "markdown",
   "id": "aeb30ae7",
   "metadata": {},
   "source": [
    "Once again, Nintendo has the highest average global sales with approximately 2.5 million units sold per game. This is very significant compared to the remaining 9 publishing companies. Surprisingly, Take-Two Interartive comes in second with approximately 0.9 million units sold per game despite producing less games compared to the remaining 8 publishing companies. Their top selling game was 'Grand Theft Auto V' which performed extremely well. Sony Computer Entertainment has the third highest average global sales with approximately 0.8 million units. "
   ]
  },
  {
   "cell_type": "markdown",
   "id": "52a9e14c",
   "metadata": {},
   "source": [
    "# Data Question #3: What are the highest global sales for each year?"
   ]
  },
  {
   "cell_type": "code",
   "execution_count": null,
   "id": "942209a2",
   "metadata": {},
   "outputs": [],
   "source": [
    "top_sales_each_year = []\n",
    "top_sale_count = 0\n",
    "year_list = []\n",
    "game = ''\n",
    "game_of_the_year = []\n",
    "year = 1980\n",
    "\n",
    "while year <= 2017:\n",
    "    year_list.append(year)\n",
    "    for i in range(0, len(vd_data.Year_of_Release)):\n",
    "        if vd_data.Year_of_Release[i] == year and vd_data.Global_Sales[i] > top_sale_count:\n",
    "            top_sale_count = vd_data.Global_Sales[i]\n",
    "            game = vd_data.Name[i]\n",
    "    top_sales_each_year.append(top_sale_count)\n",
    "    game_of_the_year.append(game)\n",
    "    top_sale_count = 0\n",
    "    game = ''\n",
    "    year += 1\n",
    "\n",
    "    \n",
    "# print(top_sales_each_year)\n",
    "# print(game_of_the_year)"
   ]
  },
  {
   "cell_type": "code",
   "execution_count": null,
   "id": "02a3f9bf",
   "metadata": {},
   "outputs": [],
   "source": [
    "plt.plot(year_list,top_sales_each_year, color = 'limegreen')\n",
    "plt.title('Highest Global Sales Per Year from 1980 to 2017')\n",
    "plt.xlabel('Year')\n",
    "plt.ylabel('Number of Sales in Millions of Units')\n",
    "plt.annotate('Wii\\nSports', ha = 'center', fontsize = 10, xy = (2006, 82), xytext = (2000, 78), color ='royalblue', arrowprops  = dict(arrowstyle = '-|>', color = 'royalblue'))\n",
    "plt.xscale('linear')\n",
    "plt.show()"
   ]
  },
  {
   "cell_type": "markdown",
   "id": "4226d4df",
   "metadata": {},
   "source": [
    "The graph peaks in the year 2006 with a value of approximately 80 million units sold which is made by the game 'Wii Sports'. There are also peaks in the years 1985 and 2008. The most popular game of these years was 'Super Mario Bros.' and 'Mario Kart Wii' respectively. "
   ]
  },
  {
   "cell_type": "markdown",
   "id": "b4a2085b",
   "metadata": {},
   "source": [
    "# Data Question #4: For each publisher, in which region do they have the most sales? "
   ]
  },
  {
   "cell_type": "code",
   "execution_count": null,
   "id": "f48bb4c7",
   "metadata": {},
   "outputs": [],
   "source": [
    "NA_sales = 0\n",
    "EU_sales = 0\n",
    "JP_sales = 0\n",
    "Other_sales = 0\n",
    "x_label = ['NA', 'EU', 'JP', 'Other']\n",
    "\n",
    "fig = plt.figure(facecolor = 'aliceblue', figsize = (10, 7))\n",
    "fig.suptitle(\"Companies' Unit Sales in Different Regions from 1980 to 2017\", fontsize = 14)\n",
    "\n",
    "for i in range(0, 9):\n",
    "    for n in range(0, len(vd_data.Publisher)):\n",
    "        if vd_data.Publisher[n] == publisher_label[i]:\n",
    "                NA_sales += vd_data.NA_Sales[n]\n",
    "                EU_sales += vd_data.EU_Sales[n]\n",
    "                JP_sales += vd_data.JP_Sales[n]\n",
    "                Other_sales += vd_data.Other_Sales[n]\n",
    "    plt.subplot(3,3,i+1)\n",
    "    plt.subplots_adjust(wspace=0.4,hspace=0.5)\n",
    "    plt.title(publisher_label[i], fontsize = 12)\n",
    "    plt.bar(x = x_label, height = [NA_sales, EU_sales, JP_sales, Other_sales], color = 'blue', 'cornflowerblue', 'darkblue', \n",
    "                                                                                       'navy')\n",
    "    plt.xticks(fontsize = 10)\n",
    "    plt.ylim(0, 850)\n",
    "    NA_sales = 0\n",
    "    EU_sales = 0\n",
    "    JP_sales = 0\n",
    "    Other_sales = 0\n",
    "    \n",
    "plt.show()"
   ]
  },
  {
   "cell_type": "markdown",
   "id": "ccbcdb69",
   "metadata": {},
   "source": [
    "The figures above show the companies' regional sales from 1980 to 2017. Interestingly, all of the companies top regional sales come from the North American region, exclusing Konami Digital Entertainment and Namco Bandai Games. Considering that Nintendo has the highest global sales, it is not suprising that its regional sales are the highest among the others, followed by Electronic Arts. "
   ]
  },
  {
   "cell_type": "markdown",
   "id": "08d8f431",
   "metadata": {},
   "source": [
    "# Data Question #5: What platform was the dominant in each year?"
   ]
  },
  {
   "cell_type": "code",
   "execution_count": null,
   "id": "78c706ee",
   "metadata": {},
   "outputs": [],
   "source": [
    "# Platform Count\n",
    "platform = vd_data.Platform.value_counts().rename_axis('Platform').reset_index(name='Count')\n",
    "platform"
   ]
  },
  {
   "cell_type": "markdown",
   "id": "f65950e8",
   "metadata": {},
   "source": [
    "We will only focus on the top 10 platforms considering that thereis a considerable difference between the 9th and 10th console. "
   ]
  },
  {
   "cell_type": "code",
   "execution_count": null,
   "id": "d92b4872",
   "metadata": {},
   "outputs": [],
   "source": [
    "platform_list = []\n",
    "platform_count_list =[]\n",
    "platform_percent = []\n",
    "platform_total_count = 0\n",
    "\n",
    "for i in range(0,10):\n",
    "    platform_list.append(platform['Platform'][i])\n",
    "    platform_count_list.append(platform['Count'][i])\n",
    "\n",
    "for count in platform_count_list:\n",
    "    platform_total_count += count\n",
    "\n",
    "for i in range(0,len(platform_count_list)):\n",
    "    platform_percent.append(platform_list[i] + ': '+ str(round(platform_count_list[i]/platform_total_count*100,1)) + '%')\n",
    "\n",
    "plt.pie(x = platform_count_list, labels = platform_percent)\n",
    "plt.title('Top 10 Platforms Based on No. of Games Running On It')\n",
    "plt.legend(title=\"Platforms\",loc=\"right\",bbox_to_anchor=(1.2, 0, 0.5, 1))\n",
    "plt.show()"
   ]
  },
  {
   "cell_type": "markdown",
   "id": "5c108dea",
   "metadata": {},
   "source": [
    "The console 'PS2' has the highest number of games running on, accounting for 16.3% of games followed by 'DS' as a close second with 16.2%. Next, platforms 'PS3' and 'Wii' accounts for approximately 10% of games running on. "
   ]
  },
  {
   "cell_type": "code",
   "execution_count": null,
   "id": "c135689b",
   "metadata": {},
   "outputs": [],
   "source": [
    "plt.bar(x = platform_list, height = platform_count_list, color = 'gold')\n",
    "plt.title('Top 10 Platforms Based on Total Global Sales from 1980 to 2017')\n",
    "plt.ylabel('Total Global Sales in Units per Million')\n",
    "plt.show()"
   ]
  },
  {
   "cell_type": "markdown",
   "id": "f01f4fae",
   "metadata": {},
   "source": [
    "Based on the figure above, the 'PS2' also known as the 'Playstation 2' has the highest total global sales with approximately 2300 million units. Followed by the 'DS', there is only a small difference in global sales. The third highest total global sales is the 'PS3' with approximately 1300 million units which is significantly less than the 'PS2' and 'DS'"
   ]
  },
  {
   "cell_type": "markdown",
   "id": "040ecec8",
   "metadata": {},
   "source": [
    "# Conclusion"
   ]
  },
  {
   "cell_type": "markdown",
   "id": "70800549",
   "metadata": {},
   "source": [
    "The purpose of this analysis is to explore and gain some insight into the video game industry. We have identified the most popular game genre which is the 'Action' genre and the most popular console which is the 'Playstation 2'. We have also found a trend in regional sales which indicates that the 'North American' region is the most demanding region compared to the other regions such as Japan and Europe. Lastly, from our analysis, we have gathered that the most successful publishing company is Nintendo. They have the highest number of sales by a large margin and they have the highest average global sales for each game they produce. "
   ]
  }
 ],
 "metadata": {
  "kernelspec": {
   "display_name": "Python 3 (ipykernel)",
   "language": "python",
   "name": "python3"
  },
  "language_info": {
   "codemirror_mode": {
    "name": "ipython",
    "version": 3
   },
   "file_extension": ".py",
   "mimetype": "text/x-python",
   "name": "python",
   "nbconvert_exporter": "python",
   "pygments_lexer": "ipython3",
   "version": "3.10.10"
  }
 },
 "nbformat": 4,
 "nbformat_minor": 5
}
